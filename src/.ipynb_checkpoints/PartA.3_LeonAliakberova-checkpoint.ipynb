{
 "cells": [
  {
   "cell_type": "markdown",
   "id": "4c865a64",
   "metadata": {},
   "source": [
    "# Laboratory 1: Property Graphs\n",
    "### Luis Alfredo Leon Villapún\n",
    "### Liliia Aliakberova\n",
    "\n",
    "# Part A.3 Evolving the graph\n",
    "* * *\n",
    "In this section we have to modify some parts of the data and explore how adaptable a property graph is when receiving data with a different structure than the original one. An advantage of the schemaless structure is that we can implement updates and evolve the database without the need of rethinking the structure of the schema.\n",
    "\n",
    "## Creating the connector\n",
    "As in part A.2, let's first create the connector to handle the messages with Neo4j."
   ]
  },
  {
   "cell_type": "code",
   "execution_count": null,
   "id": "710b3b31",
   "metadata": {},
   "outputs": [],
   "source": [
    "from connector import Neo4jConnector\n",
    "from getpass import getpass\n",
    "\n",
    "uri = \"neo4j://localhost:7687\"\n",
    "user = \"neo4j\"\n",
    "password = getpass(\"Input your password to connect\")\n",
    "conn = Neo4jConnector(uri, user, password)"
   ]
  },
  {
   "cell_type": "markdown",
   "id": "da1fa432",
   "metadata": {},
   "source": [
    "## Evolving the model\n",
    "\n",
    "In this section we will perform the necessary queries to transform the data."
   ]
  },
  {
   "cell_type": "markdown",
   "id": "421f7e2e",
   "metadata": {},
   "source": [
    "### Creating the affiliations\n",
    "This part will generate random affiliations for each author."
   ]
  },
  {
   "cell_type": "code",
   "execution_count": null,
   "id": "b7489b87",
   "metadata": {},
   "outputs": [],
   "source": [
    "def update_affiliations(conn):\n",
    "    query = \"\"\"\n",
    "MATCH (a:Author)\n",
    "WITH a, apoc.coll.randomItem([{name: 'Google', type: 'Company'}, {name: 'UPC', type: 'University'}, {name: 'ULB', type: 'University'}, {name: 'Microsoft', type: 'Company'}, {name: 'Meta', type: 'Company'}, {name: 'Amazon', type: 'Company'}]) AS affiliation\n",
    "MERGE (o:Organization{Name: affiliation.name})\n",
    "MERGE (a)-[:AFFILIATED_TO{Type:affiliation.type}]->(o)\n",
    "    \"\"\"\n",
    "    session = conn.driver.session()\n",
    "    response = list(session.run(query))\n",
    "    session.close()\n",
    "    print(\"Success\")"
   ]
  },
  {
   "cell_type": "code",
   "execution_count": null,
   "id": "8bafaaa9",
   "metadata": {},
   "outputs": [],
   "source": [
    "update_affiliations(conn)"
   ]
  },
  {
   "cell_type": "markdown",
   "id": "9577c385",
   "metadata": {},
   "source": [
    "### Adding  the content and submission status variables to the reviewed_by edges\n",
    "This section consists of a query to update the reviewed_by edges with the information regarding the content of the review, as well as the suggestion made by the reviewer."
   ]
  },
  {
   "cell_type": "code",
   "execution_count": 21,
   "id": "f63059a3",
   "metadata": {},
   "outputs": [],
   "source": [
    "def update_reviews(conn):\n",
    "    query = \"\"\"\n",
    "LOAD CSV WITH HEADERS FROM 'file:///dataset.csv' AS row\n",
    "MATCH (p:Paper{Title: row.Title})\n",
    "WITH p, row\n",
    "MATCH (p)-[r:REVIEWED_BY]->(a: Author)\n",
    "SET r.Content = apoc.coll.randomItem([\"Excellent work.\", \"Good work.\", \"Satisfactory work.\", \"Poor work\", \"Check the references\", \"Correct the format.\"]),\n",
    "    r.SuggestedDecision = apoc.coll.randomItem([\"Approved\", \"Rejected\"])\n",
    "    \"\"\"\n",
    "    session = conn.driver.session()\n",
    "    response = list(session.run(query))\n",
    "    session.close()\n",
    "    print(\"Success\")"
   ]
  },
  {
   "cell_type": "code",
   "execution_count": 22,
   "id": "aa79ece0",
   "metadata": {},
   "outputs": [
    {
     "name": "stdout",
     "output_type": "stream",
     "text": [
      "Success\n"
     ]
    }
   ],
   "source": [
    "update_reviews(conn)"
   ]
  },
  {
   "cell_type": "markdown",
   "id": "a8e972fa",
   "metadata": {},
   "source": [
    "As we could see in this exercise, modifying or adding attributes to extend the model is very easy and straightforward, one of the advantages of working with graph databases."
   ]
  },
  {
   "cell_type": "code",
   "execution_count": null,
   "id": "684f03fe",
   "metadata": {},
   "outputs": [],
   "source": []
  }
 ],
 "metadata": {
  "kernelspec": {
   "display_name": "Python 3 (ipykernel)",
   "language": "python",
   "name": "python3"
  },
  "language_info": {
   "codemirror_mode": {
    "name": "ipython",
    "version": 3
   },
   "file_extension": ".py",
   "mimetype": "text/x-python",
   "name": "python",
   "nbconvert_exporter": "python",
   "pygments_lexer": "ipython3",
   "version": "3.11.0"
  }
 },
 "nbformat": 4,
 "nbformat_minor": 5
}
