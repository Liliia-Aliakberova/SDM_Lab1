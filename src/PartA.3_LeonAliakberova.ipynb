{
 "cells": [
  {
   "cell_type": "markdown",
   "id": "4c865a64",
   "metadata": {},
   "source": [
    "# Laboratory 1: Property Graphs\n",
    "### Luis Alfredo Leon Villapún\n",
    "### Liliia Aliakberova\n",
    "\n",
    "# Part A.3 Evolving the graph\n",
    "* * *\n",
    "In this section we have to modify some parts of the data and explore how adaptable a property graph is when receiving data with a different structure than the original one. An advantage of the schemaless structure is that we can implement updates and evolve the database without the need of rethinking the structure of the schema.\n",
    "\n",
    "## Creating the connector\n",
    "As in part A.2, let's first create the connector to handle the messages with Neo4j."
   ]
  },
  {
   "cell_type": "code",
   "execution_count": 1,
   "id": "710b3b31",
   "metadata": {},
   "outputs": [
    {
     "ename": "KeyboardInterrupt",
     "evalue": "Interrupted by user",
     "output_type": "error",
     "traceback": [
      "\u001b[0;31m---------------------------------------------------------------------------\u001b[0m",
      "\u001b[0;31mKeyboardInterrupt\u001b[0m                         Traceback (most recent call last)",
      "Cell \u001b[0;32mIn [1], line 6\u001b[0m\n\u001b[1;32m      4\u001b[0m uri \u001b[38;5;241m=\u001b[39m \u001b[38;5;124m\"\u001b[39m\u001b[38;5;124mneo4j://localhost:7687\u001b[39m\u001b[38;5;124m\"\u001b[39m\n\u001b[1;32m      5\u001b[0m user \u001b[38;5;241m=\u001b[39m \u001b[38;5;124m\"\u001b[39m\u001b[38;5;124mneo4j\u001b[39m\u001b[38;5;124m\"\u001b[39m\n\u001b[0;32m----> 6\u001b[0m password \u001b[38;5;241m=\u001b[39m \u001b[43mgetpass\u001b[49m\u001b[43m(\u001b[49m\u001b[38;5;124;43m\"\u001b[39;49m\u001b[38;5;124;43mInput your password to connect\u001b[39;49m\u001b[38;5;124;43m\"\u001b[39;49m\u001b[43m)\u001b[49m\n\u001b[1;32m      7\u001b[0m conn \u001b[38;5;241m=\u001b[39m Neo4jConnector(uri, user, password)\n",
      "File \u001b[0;32m/Library/Frameworks/Python.framework/Versions/3.11/lib/python3.11/site-packages/ipykernel/kernelbase.py:1159\u001b[0m, in \u001b[0;36mKernel.getpass\u001b[0;34m(self, prompt, stream)\u001b[0m\n\u001b[1;32m   1152\u001b[0m     \u001b[38;5;28;01mimport\u001b[39;00m \u001b[38;5;21;01mwarnings\u001b[39;00m\n\u001b[1;32m   1154\u001b[0m     warnings\u001b[38;5;241m.\u001b[39mwarn(\n\u001b[1;32m   1155\u001b[0m         \u001b[38;5;124m\"\u001b[39m\u001b[38;5;124mThe `stream` parameter of `getpass.getpass` will have no effect when using ipykernel\u001b[39m\u001b[38;5;124m\"\u001b[39m,\n\u001b[1;32m   1156\u001b[0m         \u001b[38;5;167;01mUserWarning\u001b[39;00m,\n\u001b[1;32m   1157\u001b[0m         stacklevel\u001b[38;5;241m=\u001b[39m\u001b[38;5;241m2\u001b[39m,\n\u001b[1;32m   1158\u001b[0m     )\n\u001b[0;32m-> 1159\u001b[0m \u001b[38;5;28;01mreturn\u001b[39;00m \u001b[38;5;28;43mself\u001b[39;49m\u001b[38;5;241;43m.\u001b[39;49m\u001b[43m_input_request\u001b[49m\u001b[43m(\u001b[49m\n\u001b[1;32m   1160\u001b[0m \u001b[43m    \u001b[49m\u001b[43mprompt\u001b[49m\u001b[43m,\u001b[49m\n\u001b[1;32m   1161\u001b[0m \u001b[43m    \u001b[49m\u001b[38;5;28;43mself\u001b[39;49m\u001b[38;5;241;43m.\u001b[39;49m\u001b[43m_parent_ident\u001b[49m\u001b[43m[\u001b[49m\u001b[38;5;124;43m\"\u001b[39;49m\u001b[38;5;124;43mshell\u001b[39;49m\u001b[38;5;124;43m\"\u001b[39;49m\u001b[43m]\u001b[49m\u001b[43m,\u001b[49m\n\u001b[1;32m   1162\u001b[0m \u001b[43m    \u001b[49m\u001b[38;5;28;43mself\u001b[39;49m\u001b[38;5;241;43m.\u001b[39;49m\u001b[43mget_parent\u001b[49m\u001b[43m(\u001b[49m\u001b[38;5;124;43m\"\u001b[39;49m\u001b[38;5;124;43mshell\u001b[39;49m\u001b[38;5;124;43m\"\u001b[39;49m\u001b[43m)\u001b[49m\u001b[43m,\u001b[49m\n\u001b[1;32m   1163\u001b[0m \u001b[43m    \u001b[49m\u001b[43mpassword\u001b[49m\u001b[38;5;241;43m=\u001b[39;49m\u001b[38;5;28;43;01mTrue\u001b[39;49;00m\u001b[43m,\u001b[49m\n\u001b[1;32m   1164\u001b[0m \u001b[43m\u001b[49m\u001b[43m)\u001b[49m\n",
      "File \u001b[0;32m/Library/Frameworks/Python.framework/Versions/3.11/lib/python3.11/site-packages/ipykernel/kernelbase.py:1219\u001b[0m, in \u001b[0;36mKernel._input_request\u001b[0;34m(self, prompt, ident, parent, password)\u001b[0m\n\u001b[1;32m   1216\u001b[0m             \u001b[38;5;28;01mbreak\u001b[39;00m\n\u001b[1;32m   1217\u001b[0m \u001b[38;5;28;01mexcept\u001b[39;00m \u001b[38;5;167;01mKeyboardInterrupt\u001b[39;00m:\n\u001b[1;32m   1218\u001b[0m     \u001b[38;5;66;03m# re-raise KeyboardInterrupt, to truncate traceback\u001b[39;00m\n\u001b[0;32m-> 1219\u001b[0m     \u001b[38;5;28;01mraise\u001b[39;00m \u001b[38;5;167;01mKeyboardInterrupt\u001b[39;00m(\u001b[38;5;124m\"\u001b[39m\u001b[38;5;124mInterrupted by user\u001b[39m\u001b[38;5;124m\"\u001b[39m) \u001b[38;5;28;01mfrom\u001b[39;00m \u001b[38;5;28mNone\u001b[39m\n\u001b[1;32m   1220\u001b[0m \u001b[38;5;28;01mexcept\u001b[39;00m \u001b[38;5;167;01mException\u001b[39;00m:\n\u001b[1;32m   1221\u001b[0m     \u001b[38;5;28mself\u001b[39m\u001b[38;5;241m.\u001b[39mlog\u001b[38;5;241m.\u001b[39mwarning(\u001b[38;5;124m\"\u001b[39m\u001b[38;5;124mInvalid Message:\u001b[39m\u001b[38;5;124m\"\u001b[39m, exc_info\u001b[38;5;241m=\u001b[39m\u001b[38;5;28;01mTrue\u001b[39;00m)\n",
      "\u001b[0;31mKeyboardInterrupt\u001b[0m: Interrupted by user"
     ]
    }
   ],
   "source": [
    "from connector import Neo4jConnector\n",
    "from getpass import getpass\n",
    "\n",
    "uri = \"neo4j://localhost:7687\"\n",
    "user = \"neo4j\"\n",
    "password = getpass(\"Input your password to connect\")\n",
    "conn = Neo4jConnector(uri, user, password)"
   ]
  },
  {
   "cell_type": "markdown",
   "id": "da1fa432",
   "metadata": {},
   "source": [
    "## Evolving the model\n",
    "\n",
    "In this section we will perform the necessary queries to transform the data."
   ]
  },
  {
   "cell_type": "markdown",
   "id": "421f7e2e",
   "metadata": {},
   "source": [
    "### Creating the affiliations\n",
    "This part will generate random affiliations for each author."
   ]
  },
  {
   "cell_type": "code",
   "execution_count": null,
   "id": "b7489b87",
   "metadata": {},
   "outputs": [],
   "source": [
    "def update_affiliations(conn):\n",
    "    query = \"\"\"\n",
    "MATCH (a:Author)\n",
    "WITH a, apoc.coll.randomItem([{name: 'Google', type: 'Company'}, {name: 'UPC', type: 'University'}, {name: 'ULB', type: 'University'}, {name: 'Microsoft', type: 'Company'}, {name: 'Meta', type: 'Company'}, {name: 'Amazon', type: 'Company'}]) AS affiliation\n",
    "MERGE (o:Organization{Name: affiliation.name})\n",
    "MERGE (a)-[:AFFILIATED_TO{Type:affiliation.type}]->(o)\n",
    "    \"\"\"\n",
    "    session = conn.driver.session()\n",
    "    response = list(session.run(query))\n",
    "    session.close()\n",
    "    print(\"Success\")"
   ]
  },
  {
   "cell_type": "code",
   "execution_count": null,
   "id": "8bafaaa9",
   "metadata": {},
   "outputs": [],
   "source": [
    "update_affiliations(conn)"
   ]
  },
  {
   "cell_type": "markdown",
   "id": "9577c385",
   "metadata": {},
   "source": [
    "### Adding  the content and submission status variables to the reviewed_by edges\n",
    "This section consists of a query to update the reviewed_by edges with the information regarding the content of the review, as well as the suggestion made by the reviewer."
   ]
  },
  {
   "cell_type": "code",
   "execution_count": null,
   "id": "f63059a3",
   "metadata": {},
   "outputs": [],
   "source": [
    "def update_reviews(conn):\n",
    "    query = \"\"\"\n",
    "LOAD CSV WITH HEADERS FROM 'file:///dataset.csv' AS row\n",
    "MATCH (p:Paper{Title: row.Title})\n",
    "WITH p, row\n",
    "MATCH (p)-[r:REVIEWED_BY]->(a: Author)\n",
    "SET r.Content = apoc.coll.randomItem([\"Excellent work.\", \"Good work.\", \"Satisfactory work.\", \"Poor work\", \"Check the references\", \"Correct the format.\"]),\n",
    "    r.SuggestedDecision = apoc.coll.randomItem([\"Approved\", \"Rejected\"])\n",
    "    \"\"\"\n",
    "    session = conn.driver.session()\n",
    "    response = list(session.run(query))\n",
    "    session.close()\n",
    "    print(\"Success\")"
   ]
  },
  {
   "cell_type": "code",
   "execution_count": null,
   "id": "aa79ece0",
   "metadata": {},
   "outputs": [],
   "source": [
    "update_reviews(conn)"
   ]
  },
  {
   "cell_type": "markdown",
   "id": "a8e972fa",
   "metadata": {},
   "source": [
    "As we could see in this exercise, modifying or adding attributes to extend the model is very easy and straightforward, one of the advantages of working with graph databases."
   ]
  },
  {
   "cell_type": "code",
   "execution_count": null,
   "id": "684f03fe",
   "metadata": {},
   "outputs": [],
   "source": []
  },
  {
   "cell_type": "code",
   "execution_count": null,
   "id": "9f82c6db",
   "metadata": {},
   "outputs": [],
   "source": []
  }
 ],
 "metadata": {
  "kernelspec": {
   "display_name": "Python 3 (ipykernel)",
   "language": "python",
   "name": "python3"
  },
  "language_info": {
   "codemirror_mode": {
    "name": "ipython",
    "version": 3
   },
   "file_extension": ".py",
   "mimetype": "text/x-python",
   "name": "python",
   "nbconvert_exporter": "python",
   "pygments_lexer": "ipython3",
   "version": "3.11.0"
  }
 },
 "nbformat": 4,
 "nbformat_minor": 5
}
