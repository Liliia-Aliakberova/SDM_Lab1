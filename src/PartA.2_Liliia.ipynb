{
 "cells": [
  {
   "cell_type": "markdown",
   "id": "fce643b4",
   "metadata": {},
   "source": [
    "# Laboratory 1: Property Graphs\n",
    "### Luis Alfredo Leon Villapún\n",
    "### Liliia Aliakberova\n",
    "\n",
    "# Part A.2 Instantiating / Loading\n",
    "* * *\n",
    "In this section we are asked to load the data into our desired graph. To do this, we are going to use mainly a modified version of the <a href=\"https://www.kaggle.com/datasets/dpixton/byu-engineering-publications-in-scopus-201721?resource=download\">BYU Engineering Publications in Scopus 2017-21</a> from Kaggle.\n",
    "Please note that:  \n",
    "- this datasets contain modified information to suit this tasks requirements, so even though a part of this dataset is real, some of the enforced relationships will be fake. Keep in mind this is for the purpose of the lab.\n",
    "\n",
    "## Creating the connector\n",
    "Let's first create the connector to handle the messages with Neo4j."
   ]
  },
  {
   "cell_type": "code",
   "execution_count": 1,
   "id": "9f541b56",
   "metadata": {},
   "outputs": [],
   "source": [
    "# Install if needed\n",
    "# !pip install neo4j\n",
    "# !pip install pandas"
   ]
  },
  {
   "cell_type": "code",
   "execution_count": 29,
   "id": "9f108cec",
   "metadata": {},
   "outputs": [
    {
     "name": "stdout",
     "output_type": "stream",
     "text": [
      "Input your password to connect········\n"
     ]
    }
   ],
   "source": [
    "from connector import Neo4jConnector\n",
    "from getpass import getpass\n",
    "\n",
    "uri = \"neo4j://localhost:7687\"\n",
    "user = \"neo4j\"\n",
    "password = getpass(\"Input your password to connect\")\n",
    "conn = Neo4jConnector(uri, user, password)"
   ]
  },
  {
   "cell_type": "code",
   "execution_count": 30,
   "id": "6135b301",
   "metadata": {},
   "outputs": [],
   "source": [
    "# Uncomment to drop the database (you will have to rerun the loading cells)\n",
    "conn.drop()"
   ]
  },
  {
   "cell_type": "markdown",
   "id": "8db733c2",
   "metadata": {},
   "source": [
    "## Loading the CSV into Neo4j\n",
    "\n",
    "In this step we are going to define the query to load the csv into the graph database. Note that the csv can generate most of the data from the original source. The only relations that have to be faked are \"reviewed_by\", since we don't have data on who was the reviewer of a paper, and the relation of \"cited_by\", because in the dataset the cited by column corresponds to the number of citations, not the actual papers who cited the paper per se."
   ]
  },
  {
   "cell_type": "code",
   "execution_count": 31,
   "id": "ee4393a5",
   "metadata": {},
   "outputs": [],
   "source": [
    "def load_byu_csv(conn):\n",
    "    query = \"\"\"\n",
    "        LOAD CSV WITH HEADERS FROM 'file:///dataset.csv' AS row\n",
    "        MERGE (paper: Paper {Title: row.Title})\n",
    "        SET paper.Content = row.Link,\n",
    "            paper.Abstract = row.Abstract\n",
    "        WITH row, paper\n",
    "        UNWIND row.Authors AS authorstr\n",
    "        UNWIND apoc.text.split(authorstr, ',') AS authorname\n",
    "        MERGE (author: Author {AuthorName: authorname})\n",
    "        MERGE (paper)-[:WRITTEN_BY]->(author)\n",
    "        WITH paper, row WHERE row.Volume IS NOT NULL\n",
    "        MERGE (doc: Document {DocumentType: row['Document Type'], Title: row['Source title'], ConferenceName: row['General conference name'], Volume: row['Volume'], Year: row['Year']})\n",
    "        MERGE (paper)-[:PUBLISHED_AT]->(doc)\n",
    "        WITH paper, row['Index Keywords'] as keywordsstr\n",
    "        UNWIND apoc.text.split(keywordsstr, ';') AS keyword\n",
    "        MERGE (topic: Topic {Keyword: keyword})\n",
    "        MERGE (paper)-[:RELATED_TO]->(topic)\n",
    "    \"\"\"\n",
    "    session = conn.driver.session()\n",
    "    response = list(session.run(query))\n",
    "    session.close()\n",
    "    print(\"Success\")"
   ]
  },
  {
   "cell_type": "code",
   "execution_count": 32,
   "id": "e41ed06d",
   "metadata": {},
   "outputs": [
    {
     "name": "stdout",
     "output_type": "stream",
     "text": [
      "Success\n"
     ]
    }
   ],
   "source": [
    "load_byu_csv(conn)"
   ]
  },
  {
   "cell_type": "markdown",
   "id": "a20aa155",
   "metadata": {},
   "source": [
    "This method loads artificially the citations to the graph."
   ]
  },
  {
   "cell_type": "code",
   "execution_count": 33,
   "id": "8db706a1",
   "metadata": {},
   "outputs": [],
   "source": [
    "def create_citations(conn):\n",
    "    query=\"\"\"\n",
    "        MATCH (paps: Paper)\n",
    "        WITH COLLECT(paps) AS Papers\n",
    "        MATCH (paper: Paper)\n",
    "        WITH toInteger(round(rand()*10)) AS citations, paper, Papers\n",
    "        WITH paper, citations, apoc.coll.randomItems(Papers, citations) AS cited_by_papers\n",
    "        UNWIND cited_by_papers as cited_by_paper\n",
    "        WITH paper, cited_by_paper WHERE cited_by_paper.Title <> paper.Title\n",
    "        MERGE (paper)-[c:CITED_BY]->(cited_by_paper)\n",
    "    \"\"\"\n",
    "    session = conn.driver.session()\n",
    "    response = list(session.run(query))\n",
    "    session.close()\n",
    "    print(\"Success\")"
   ]
  },
  {
   "cell_type": "code",
   "execution_count": 34,
   "id": "bc608c8e",
   "metadata": {},
   "outputs": [
    {
     "name": "stdout",
     "output_type": "stream",
     "text": [
      "Success\n"
     ]
    }
   ],
   "source": [
    "create_citations(conn)"
   ]
  },
  {
   "cell_type": "markdown",
   "id": "22be9fa0",
   "metadata": {},
   "source": [
    "Similarly, we will create artificially the reviewers in the graph."
   ]
  },
  {
   "cell_type": "code",
   "execution_count": 35,
   "id": "4f1ed0f9",
   "metadata": {},
   "outputs": [],
   "source": [
    "def create_reviews(conn):\n",
    "    query=\"\"\"\n",
    "MATCH (paper: Paper)\n",
    "WITH paper, apoc.coll.randomItem([0, 1, 2, 3, 4]) AS nreviews\n",
    "MATCH (a2: Author)\n",
    "WITH COLLECT(a2) AS reviewerPool, paper, nreviews\n",
    "WITH paper, apoc.coll.randomItems(reviewerPool, nreviews) AS reviewers\n",
    "UNWIND reviewers AS reviewer\n",
    "WITH paper, reviewer\n",
    "OPTIONAL MATCH (paper)-[w:WRITTEN_BY]->(reviewer)\n",
    "WITH paper, reviewer WHERE w IS NULL\n",
    "MERGE (paper)-[:REVIEWED_BY]->(reviewer)\n",
    "    \"\"\"\n",
    "    session = conn.driver.session()\n",
    "    response = list(session.run(query))\n",
    "    session.close()\n",
    "    print(\"Success\")"
   ]
  },
  {
   "cell_type": "code",
   "execution_count": 36,
   "id": "e49f0c47",
   "metadata": {},
   "outputs": [
    {
     "name": "stdout",
     "output_type": "stream",
     "text": [
      "Success\n"
     ]
    }
   ],
   "source": [
    "create_reviews(conn)"
   ]
  },
  {
   "cell_type": "code",
   "execution_count": null,
   "id": "a34e2ff5",
   "metadata": {},
   "outputs": [],
   "source": []
  },
  {
   "cell_type": "code",
   "execution_count": null,
   "id": "d13cd50d",
   "metadata": {},
   "outputs": [],
   "source": []
  }
 ],
 "metadata": {
  "kernelspec": {
   "display_name": "Python 3 (ipykernel)",
   "language": "python",
   "name": "python3"
  },
  "language_info": {
   "codemirror_mode": {
    "name": "ipython",
    "version": 3
   },
   "file_extension": ".py",
   "mimetype": "text/x-python",
   "name": "python",
   "nbconvert_exporter": "python",
   "pygments_lexer": "ipython3",
   "version": "3.11.0"
  }
 },
 "nbformat": 4,
 "nbformat_minor": 5
}
