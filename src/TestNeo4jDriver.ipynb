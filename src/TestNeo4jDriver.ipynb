{
 "cells": [
  {
   "cell_type": "code",
   "execution_count": 1,
   "id": "f4587c38",
   "metadata": {},
   "outputs": [
    {
     "name": "stdout",
     "output_type": "stream",
     "text": [
      "hello, world, from node 3206779\n"
     ]
    }
   ],
   "source": [
    "from neo4j import GraphDatabase\n",
    "\n",
    "class HelloWorldExample:\n",
    "\n",
    "    def __init__(self, uri, user, password):\n",
    "        self.driver = GraphDatabase.driver(uri, auth=(user, password))\n",
    "\n",
    "    def close(self):\n",
    "        self.driver.close()\n",
    "\n",
    "    def print_greeting(self, message):\n",
    "        with self.driver.session() as session:\n",
    "            greeting = session.execute_write(self._create_and_return_greeting, message)\n",
    "            print(greeting)\n",
    "\n",
    "    @staticmethod\n",
    "    def _create_and_return_greeting(tx, message):\n",
    "        result = tx.run(\"CREATE (a:Greeting) \"\n",
    "                        \"SET a.message = $message \"\n",
    "                        \"RETURN a.message + ', from node ' + id(a)\", message=message)\n",
    "        return result.single()[0]\n",
    "\n",
    "\n",
    "if __name__ == \"__main__\":\n",
    "    greeter = HelloWorldExample(\"bolt://localhost:7687\", \"neo4j\", \"password\")\n",
    "    greeter.print_greeting(\"hello, world\")\n",
    "    greeter.close()"
   ]
  },
  {
   "cell_type": "code",
   "execution_count": 2,
   "id": "93ea5217",
   "metadata": {},
   "outputs": [],
   "source": [
    "import pandas as pd"
   ]
  },
  {
   "cell_type": "code",
   "execution_count": 14,
   "id": "0989f822",
   "metadata": {},
   "outputs": [],
   "source": []
  }
 ],
 "metadata": {
  "kernelspec": {
   "display_name": "Python 3 (ipykernel)",
   "language": "python",
   "name": "python3"
  },
  "language_info": {
   "codemirror_mode": {
    "name": "ipython",
    "version": 3
   },
   "file_extension": ".py",
   "mimetype": "text/x-python",
   "name": "python",
   "nbconvert_exporter": "python",
   "pygments_lexer": "ipython3",
   "version": "3.9.16"
  }
 },
 "nbformat": 4,
 "nbformat_minor": 5
}
